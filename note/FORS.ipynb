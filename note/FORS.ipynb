{
 "cells": [
  {
   "cell_type": "markdown",
   "metadata": {},
   "source": [
    "The SPHINCS+ hypertree HT is not used to sign the actual messages but the public keys of FORS instances which in turn are used to sign message digests."
   ]
  },
  {
   "cell_type": "markdown",
   "metadata": {},
   "source": [
    "- `fors_SKgen`: Generate a FORS secret key. Those secret key are the leaf nodes on the below.\n",
    "- `fors_treehash`: Compute the root node of a subtree, which is composed by the generated secret keys. \n",
    "- `fors_PKgen`: hash all the root nodes of the subtrees to generate the public key of the FORS instance.\n",
    "- `fors_sign`: by the message to chose the private key of the FORS instance and auth path of the private key.\n",
    "- `fors_pkFromSig`: recover the public key from the signature. if the `fors_sign` is correct, the public key is equal the `fors_PKgen`."
   ]
  }
 ],
 "metadata": {
  "language_info": {
   "name": "python"
  }
 },
 "nbformat": 4,
 "nbformat_minor": 2
}
