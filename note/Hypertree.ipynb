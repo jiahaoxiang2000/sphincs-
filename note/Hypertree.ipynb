{
 "cells": [
  {
   "cell_type": "markdown",
   "metadata": {},
   "source": [
    "## The SPHINCS+ Hypertree \n",
    "\n",
    "The hypertree might be viewed as a fixed input-length version of multi-tree XMSS.\n",
    "\n",
    "An XMSS signature in the context of SPHINCS+ consists of the WOTS+ signature on the message and the so-called authentication path. "
   ]
  },
  {
   "cell_type": "markdown",
   "metadata": {},
   "source": [
    "The `treehash` algorithm returns the root node of a tree of height $z$ with the leftmost leaf being the WOTS+ $pk$ at index $s$.\n",
    "\n",
    "NOTE: the `treehash` algorithm will output the root node of the tree and the authentication path nodes. This let the space complexity from $O(2^n)$ to $O(n)$.\n"
   ]
  }
 ],
 "metadata": {
  "language_info": {
   "name": "python"
  }
 },
 "nbformat": 4,
 "nbformat_minor": 2
}
