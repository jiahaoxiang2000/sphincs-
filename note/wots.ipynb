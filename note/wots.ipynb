{
 "cells": [
  {
   "cell_type": "markdown",
   "metadata": {},
   "source": [
    "# WOTS (Winternitz One-Time Signature) Implementation\n",
    "This notebook implements the WOTS signature scheme in Python\n"
   ]
  },
  {
   "cell_type": "code",
   "execution_count": 9,
   "metadata": {},
   "outputs": [],
   "source": [
    "import hashlib\n",
    "import numpy as np\n",
    "from typing import List\n",
    "\n",
    "# Parameters\n",
    "SPX_N = 16  # Hash output length in bytes\n",
    "SPX_WOTS_W = 16  # Winternitz parameter\n",
    "SPX_WOTS_LOGW = 4  # log2(SPX_WOTS_W)\n",
    "SPX_WOTS_LEN1 = 64  # Length of message part\n",
    "SPX_WOTS_LEN2 = 3   # Length of checksum part\n",
    "SPX_WOTS_LEN = SPX_WOTS_LEN1 + SPX_WOTS_LEN2  # Total length\n",
    "SPX_SHA256_OUTPUT_BYTES = 32  # Length of hash output"
   ]
  },
  {
   "cell_type": "code",
   "execution_count": 10,
   "metadata": {},
   "outputs": [],
   "source": [
    "def prf_addr(seed: bytes, addr: List[int]) -> bytes:\n",
    "    \"\"\"PRF function using SHA256\"\"\"\n",
    "    addr_bytes = b''.join(i.to_bytes(4, 'big') for i in addr)\n",
    "    return hashlib.sha256(seed + addr_bytes).digest()[:SPX_SHA256_OUTPUT_BYTES]\n",
    "\n",
    "def thash(in_data: bytes, pub_seed: bytes, addr: List[int]) -> bytes:\n",
    "    \"\"\"T-hash function using SHA256\"\"\"\n",
    "    addr_bytes = b''.join(i.to_bytes(4, 'big') for i in addr)\n",
    "    return hashlib.sha256(pub_seed + addr_bytes + in_data).digest()[:SPX_N]"
   ]
  },
  {
   "cell_type": "code",
   "execution_count": 11,
   "metadata": {},
   "outputs": [],
   "source": [
    "def gen_chain(input_data: bytes, start: int, steps: int, pub_seed: bytes, addr: List[int]) -> bytes:\n",
    "    \"\"\"Compute the chaining function\"\"\"\n",
    "    out = input_data[:]\n",
    "    \n",
    "    for i in range(start, min(start + steps, SPX_WOTS_W)):\n",
    "        addr[6] = i  # Set hash address\n",
    "        out = thash(out, pub_seed, addr)\n",
    "    \n",
    "    return out\n",
    "\n",
    "def base_w(input_bytes: bytes, out_len: int) -> List[int]:\n",
    "    \"\"\"base_w algorithm for converting bytes to base w integers\"\"\"\n",
    "    output = []\n",
    "    total = 0\n",
    "    bits = 0\n",
    "    \n",
    "    for consumed in range(out_len):\n",
    "        if bits == 0:\n",
    "            total = input_bytes[len(output) // (8 // SPX_WOTS_LOGW)]\n",
    "            bits = 8\n",
    "        bits -= SPX_WOTS_LOGW\n",
    "        output.append((total >> bits) & (SPX_WOTS_W - 1))\n",
    "    \n",
    "    return output\n",
    "\n",
    "# test base_w\n",
    "assert base_w(b'\\x00', 1) == [0]\n",
    "assert base_w(b'\\x01', 2) == [0, 1]"
   ]
  },
  {
   "cell_type": "code",
   "execution_count": 12,
   "metadata": {},
   "outputs": [],
   "source": [
    "def wots_gen_pk(seed: bytes, pub_seed: bytes, addr: List[int]) -> bytes:\n",
    "    \"\"\"Generate WOTS public key\"\"\"\n",
    "    pk = bytearray()\n",
    "    \n",
    "    for i in range(SPX_WOTS_LEN):\n",
    "        addr[5] = i  # Set chain address\n",
    "        # Generate private key element\n",
    "        sk = prf_addr(seed, addr)\n",
    "        # Compute chain\n",
    "        pk_element = gen_chain(sk, 0, SPX_WOTS_W - 1, pub_seed, addr)\n",
    "        pk.extend(pk_element)\n",
    "    \n",
    "    return bytes(pk)\n",
    "\n",
    "def wots_sign(msg: bytes, seed: bytes, pub_seed: bytes, addr: List[int]) -> bytes:\n",
    "    \"\"\"Generate WOTS signature\"\"\"\n",
    "    # Convert message to base w\n",
    "    msg_base_w = base_w(msg, SPX_WOTS_LEN1)\n",
    "    \n",
    "    # Compute checksum\n",
    "    csum = sum(SPX_WOTS_W - 1 - x for x in msg_base_w)\n",
    "    csum_bytes = csum.to_bytes((SPX_WOTS_LEN2 * SPX_WOTS_LOGW + 7) // 8, 'big')\n",
    "    csum_base_w = base_w(csum_bytes, SPX_WOTS_LEN2)\n",
    "    \n",
    "    lengths = msg_base_w + csum_base_w\n",
    "    sig = bytearray()\n",
    "    \n",
    "    for i in range(SPX_WOTS_LEN):\n",
    "        addr[5] = i  # Set chain address\n",
    "        sk = prf_addr(seed, addr)\n",
    "        sig_element = gen_chain(sk, 0, lengths[i], pub_seed, addr)\n",
    "        sig.extend(sig_element)\n",
    "    \n",
    "    return bytes(sig)\n",
    "    "
   ]
  },
  {
   "cell_type": "code",
   "execution_count": 13,
   "metadata": {},
   "outputs": [],
   "source": [
    "def wots_pk_from_sig(sig: bytes, msg: bytes, pub_seed: bytes, addr: List[int]) -> bytes:\n",
    "    \"\"\"Compute public key from signature\"\"\"\n",
    "    # Convert message to base w\n",
    "    msg_base_w = base_w(msg, SPX_WOTS_LEN1)\n",
    "    \n",
    "    # Compute checksum\n",
    "    csum = sum(SPX_WOTS_W - 1 - x for x in msg_base_w)\n",
    "    csum_bytes = csum.to_bytes((SPX_WOTS_LEN2 * SPX_WOTS_LOGW + 7) // 8, 'big')\n",
    "    csum_base_w = base_w(csum_bytes, SPX_WOTS_LEN2)\n",
    "    \n",
    "    lengths = msg_base_w + csum_base_w\n",
    "    pk = bytearray()\n",
    "    \n",
    "    for i in range(SPX_WOTS_LEN):\n",
    "        addr[5] = i  # Set chain address\n",
    "        sig_element = sig[i*SPX_N:(i+1)*SPX_N]\n",
    "        pk_element = gen_chain(sig_element, lengths[i], \n",
    "                              SPX_WOTS_W - 1 - lengths[i], \n",
    "                              pub_seed, addr)\n",
    "        pk.extend(pk_element)\n",
    "    \n",
    "    return bytes(pk)"
   ]
  },
  {
   "cell_type": "code",
   "execution_count": 15,
   "metadata": {},
   "outputs": [
    {
     "name": "stdout",
     "output_type": "stream",
     "text": [
      "Public key: 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\n",
      "Signature: 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\n",
      "Verified: False\n"
     ]
    }
   ],
   "source": [
    "# Example usage\n",
    "if __name__ == \"__main__\":\n",
    "    # Test vectors\n",
    "    seed = bytes([i % 256 for i in range(32)])\n",
    "    pub_seed = bytes([(i + 128) % 256 for i in range(32)])\n",
    "    addr = [0] * 8\n",
    "    msg = b\"Hello, WOTS!\"\n",
    "    # msg extended to 32 bytes\n",
    "    msg = msg + b'\\x00' * (32 - len(msg))\n",
    "    \n",
    "    # Generate public key\n",
    "    pk = wots_gen_pk(seed, pub_seed, addr)\n",
    "    \n",
    "    print(f\"Public key: {pk.hex()}\")\n",
    "    \n",
    "    # Sign message\n",
    "    sig = wots_sign(msg, seed, pub_seed, addr)\n",
    "    print(f\"Signature: {sig.hex()}\")\n",
    "    \n",
    "    # Verify by reconstructing public key\n",
    "    pk2 = wots_pk_from_sig(sig, msg, pub_seed, addr)\n",
    "    print(f\"Verified: {pk == pk2}\")"
   ]
  },
  {
   "cell_type": "markdown",
   "metadata": {},
   "source": [
    "- `wots_PKgen`: use the left node (security key) to create right nodes (public key) on hash chain, then hash all the right nodes to get the public key\n",
    "- `wots_sign`: use the message to chose the node position on hash chain, concatenate all node to get the signature\n",
    "- `wots_pkFromSig`: use the signature and message to get the public key"
   ]
  }
 ],
 "metadata": {
  "kernelspec": {
   "display_name": ".venv",
   "language": "python",
   "name": "python3"
  },
  "language_info": {
   "codemirror_mode": {
    "name": "ipython",
    "version": 3
   },
   "file_extension": ".py",
   "mimetype": "text/x-python",
   "name": "python",
   "nbconvert_exporter": "python",
   "pygments_lexer": "ipython3",
   "version": "3.12.8"
  }
 },
 "nbformat": 4,
 "nbformat_minor": 2
}
